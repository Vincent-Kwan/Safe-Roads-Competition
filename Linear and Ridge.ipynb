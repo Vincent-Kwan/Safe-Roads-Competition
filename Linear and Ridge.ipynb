{
 "cells": [
  {
   "cell_type": "code",
   "execution_count": 1,
   "metadata": {},
   "outputs": [],
   "source": [
    "import pandas as pd\n",
    "import sklearn\n",
    "import numpy as np\n",
    "import util\n",
    "import seaborn as sns\n",
    "import matplotlib.pyplot as plt\n",
    "import shap\n",
    "import seaborn as sns"
   ]
  },
  {
   "cell_type": "code",
   "execution_count": 2,
   "metadata": {},
   "outputs": [],
   "source": [
    "from sklearn.linear_model import LinearRegression, RidgeCV\n",
    "import statsmodels.api as sm \n",
    "import matplotlib.pylab as plt \n",
    "from dmba import regressionSummary, exhaustive_search \n",
    "from dmba import adjusted_r2_score, AIC_score, BIC_score\n",
    "from sklearn.metrics import r2_score\n",
    "from dmba import backward_elimination, forward_selection\n",
    "from sklearn.model_selection import train_test_split, cross_val_score, GridSearchCV\n",
    "from sklearn.preprocessing import QuantileTransformer, quantile_transform"
   ]
  },
  {
   "cell_type": "code",
   "execution_count": 3,
   "metadata": {},
   "outputs": [],
   "source": [
    "pd.set_option('max_columns', None)\n",
    "pd.set_option('max_rows', 81)"
   ]
  },
  {
   "cell_type": "code",
   "execution_count": 4,
   "metadata": {},
   "outputs": [],
   "source": [
    "ultimate_df = pd.read_csv('Data/Created Datasets/ALL_merge_truncate3.csv', index_col = 0)"
   ]
  },
  {
   "cell_type": "code",
   "execution_count": 4,
   "metadata": {},
   "outputs": [],
   "source": [
    "# dataset without hazardous dataset - this dataset is bigger\n",
    "ultimate_df = pd.read_csv('Data/Created Datasets/Impediments_Feature_Count.csv', index_col = 0)"
   ]
  },
  {
   "cell_type": "code",
   "execution_count": null,
   "metadata": {},
   "outputs": [],
   "source": [
    "ultimate_df['COUNT'].plot(kind = 'hist')"
   ]
  },
  {
   "cell_type": "code",
   "execution_count": 201,
   "metadata": {},
   "outputs": [],
   "source": [
    "# capping - removing extreme outliers\n",
    "#ultimate_df['COUNT'] = ultimate_df[ultimate_df['COUNT'] <= 8]\n",
    "\n",
    "#ultimate_df['COUNT'] = np.log(ultimate_df['COUNT'])\n",
    "\n",
    "# ultimate_df['COUNT'] = quantile_transform(\n",
    "#     ultimate_df['COUNT'].to_frame(), n_quantiles=500, output_distribution=\"normal\", copy=True\n",
    "# ).squeeze()"
   ]
  },
  {
   "cell_type": "code",
   "execution_count": null,
   "metadata": {},
   "outputs": [],
   "source": [
    "ultimate_df['COUNT'].plot(kind = 'hist')"
   ]
  },
  {
   "cell_type": "code",
   "execution_count": 6,
   "metadata": {},
   "outputs": [],
   "source": [
    "# only downtown\n",
    "\n",
    "ultimate_df = ultimate_df[(ultimate_df['LATITUDE'] < 43.6688) & (ultimate_df['LONGITUDE'] > -79.46935) & (ultimate_df['LONGITUDE'] < -79.330700)]"
   ]
  },
  {
   "cell_type": "code",
   "execution_count": 25,
   "metadata": {},
   "outputs": [
    {
     "data": {
      "text/plain": [
       "(921, 20)"
      ]
     },
     "execution_count": 25,
     "metadata": {},
     "output_type": "execute_result"
    }
   ],
   "source": [
    "ultimate_df.shape"
   ]
  },
  {
   "cell_type": "code",
   "execution_count": 5,
   "metadata": {},
   "outputs": [],
   "source": [
    "# not downtown\n",
    "\n",
    "ultimate_df = ultimate_df[~((ultimate_df['LATITUDE'] < 43.6688) & (ultimate_df['LONGITUDE'] > -79.46935) & (ultimate_df['LONGITUDE'] < -79.330700))]"
   ]
  },
  {
   "cell_type": "code",
   "execution_count": 28,
   "metadata": {},
   "outputs": [
    {
     "data": {
      "text/plain": [
       "(3030, 20)"
      ]
     },
     "execution_count": 28,
     "metadata": {},
     "output_type": "execute_result"
    }
   ],
   "source": [
    "ultimate_df.shape"
   ]
  },
  {
   "cell_type": "code",
   "execution_count": 21,
   "metadata": {},
   "outputs": [],
   "source": [
    "ultimate_df['LIGHT'] = ultimate_df['LIGHT'].apply(util.lc)\n",
    "ultimate_df['TRAFFCTL'] = ultimate_df['TRAFFCTL'].apply(util.tc)\n",
    "ultimate_df['DRIVACT'] = ultimate_df['DRIVACT'].apply(util.actc)\n",
    "ultimate_df['DRIVCOND'] = ultimate_df['DRIVCOND'].apply(util.condc)\n",
    "ultimate_df['VEHTYPE'] = ultimate_df['VEHTYPE'].apply(util.vehc)\n",
    "ultimate_df['INVAGE'] = ultimate_df['INVAGE'].apply(util.agec)\n",
    "#ultimate_df['MANOEUVER'] = ultimate_df['MANOEUVER'].apply(util.manc)"
   ]
  },
  {
   "cell_type": "code",
   "execution_count": 5,
   "metadata": {},
   "outputs": [],
   "source": [
    "ultimate_df = ultimate_df.replace('Yes', 1).replace('<Null>', 0).replace('<Null', 0)"
   ]
  },
  {
   "cell_type": "code",
   "execution_count": 6,
   "metadata": {},
   "outputs": [],
   "source": [
    "ultimate_df['TIME'] = round(ultimate_df['TIME']/100,3)"
   ]
  },
  {
   "cell_type": "code",
   "execution_count": 151,
   "metadata": {},
   "outputs": [
    {
     "data": {
      "text/plain": [
       "Index(['LATITUDE', 'LONGITUDE', 'INVAGE', 'RDSFCOND', 'VISIBILITY', 'LIGHT',\n",
       "       'TRAFFCTL', 'DRIVACT', 'DRIVCOND', 'VEHTYPE', 'TIME', 'AvgAcceleration',\n",
       "       'PercentCar', 'PercentHDT', 'PercentLDT', 'PercentMDT', 'PercentMPV',\n",
       "       'PercentOfVehicles', 'PercentOther', 'COUNT'],\n",
       "      dtype='object')"
      ]
     },
     "execution_count": 151,
     "metadata": {},
     "output_type": "execute_result"
    }
   ],
   "source": [
    "ultimate_df.columns"
   ]
  },
  {
   "cell_type": "code",
   "execution_count": 22,
   "metadata": {},
   "outputs": [],
   "source": [
    "X = ultimate_df[[col for col in ultimate_df.columns if col not in ('COUNT', 'WARDNUM', 'LATITUDE', 'LONGITUDE', 'Latitude', 'Longitude','MANOEUVER', 'DRIVACT', 'DRIVCOND', 'TRAFFCTL', 'SPEEDING', 'ALCOHOL', 'REDLIGHT', 'AG_DRIV')]]\n",
    "# for smaller complete dataset\n",
    "#X = ultimate_df[['SeverityScore', 'DRIVACT', 'DRIVCOND', 'TRAFFCTL', 'INVAGE', 'AvgAcceleration', 'VEHTYPE', 'VISIBILITY', 'PercentOfVehicles',  'LIGHT']]\n",
    "# for bigger dataset\n",
    "#X = ultimate_df[['DRIVACT', 'DRIVCOND','TRAFFCTL', 'INVAGE', 'AvgAcceleration', 'VEHTYPE', 'VISIBILITY', 'PercentOfVehicles']]\n",
    "#X = ultimate_df[['SeverityScore', 'Cluster', 'AvgAcceleration', 'VISIBILITY', 'PercentOfVehicles',  'LIGHT']]\n",
    "Y = ultimate_df['COUNT']\n",
    "X = pd.get_dummies(X, drop_first = True)\n",
    "#X = X[best_variables_forward]\n",
    "#X = X[best_variables_forward]\n"
   ]
  },
  {
   "cell_type": "code",
   "execution_count": 23,
   "metadata": {},
   "outputs": [],
   "source": [
    "X = sm.add_constant(X)\n",
    "model = sm.OLS(Y, X)\n",
    "results = model.fit()"
   ]
  },
  {
   "cell_type": "code",
   "execution_count": 24,
   "metadata": {},
   "outputs": [
    {
     "data": {
      "text/html": [
       "<table class=\"simpletable\">\n",
       "<caption>OLS Regression Results</caption>\n",
       "<tr>\n",
       "  <th>Dep. Variable:</th>          <td>COUNT</td>      <th>  R-squared:         </th> <td>   0.093</td>\n",
       "</tr>\n",
       "<tr>\n",
       "  <th>Model:</th>                   <td>OLS</td>       <th>  Adj. R-squared:    </th> <td>   0.054</td>\n",
       "</tr>\n",
       "<tr>\n",
       "  <th>Method:</th>             <td>Least Squares</td>  <th>  F-statistic:       </th> <td>   2.385</td>\n",
       "</tr>\n",
       "<tr>\n",
       "  <th>Date:</th>             <td>Fri, 11 Mar 2022</td> <th>  Prob (F-statistic):</th> <td>7.38e-05</td>\n",
       "</tr>\n",
       "<tr>\n",
       "  <th>Time:</th>                 <td>00:40:20</td>     <th>  Log-Likelihood:    </th> <td> -1457.4</td>\n",
       "</tr>\n",
       "<tr>\n",
       "  <th>No. Observations:</th>      <td>   706</td>      <th>  AIC:               </th> <td>   2975.</td>\n",
       "</tr>\n",
       "<tr>\n",
       "  <th>Df Residuals:</th>          <td>   676</td>      <th>  BIC:               </th> <td>   3112.</td>\n",
       "</tr>\n",
       "<tr>\n",
       "  <th>Df Model:</th>              <td>    29</td>      <th>                     </th>     <td> </td>   \n",
       "</tr>\n",
       "<tr>\n",
       "  <th>Covariance Type:</th>      <td>nonrobust</td>    <th>                     </th>     <td> </td>   \n",
       "</tr>\n",
       "</table>\n",
       "<table class=\"simpletable\">\n",
       "<tr>\n",
       "                  <td></td>                     <th>coef</th>     <th>std err</th>      <th>t</th>      <th>P>|t|</th>  <th>[0.025</th>    <th>0.975]</th>  \n",
       "</tr>\n",
       "<tr>\n",
       "  <th>const</th>                             <td>    3.5632</td> <td>    1.998</td> <td>    1.783</td> <td> 0.075</td> <td>   -0.360</td> <td>    7.487</td>\n",
       "</tr>\n",
       "<tr>\n",
       "  <th>IncidentsTotal</th>                    <td>   -0.0007</td> <td>    0.001</td> <td>   -0.833</td> <td> 0.405</td> <td>   -0.002</td> <td>    0.001</td>\n",
       "</tr>\n",
       "<tr>\n",
       "  <th>SeverityScore</th>                     <td>    9.7197</td> <td>    4.935</td> <td>    1.969</td> <td> 0.049</td> <td>    0.029</td> <td>   19.410</td>\n",
       "</tr>\n",
       "<tr>\n",
       "  <th>PercentOfVehicles</th>                 <td>    5.0140</td> <td>    3.155</td> <td>    1.589</td> <td> 0.112</td> <td>   -1.180</td> <td>   11.208</td>\n",
       "</tr>\n",
       "<tr>\n",
       "  <th>AvgAcceleration</th>                   <td>    0.6054</td> <td>    0.507</td> <td>    1.193</td> <td> 0.233</td> <td>   -0.391</td> <td>    1.602</td>\n",
       "</tr>\n",
       "<tr>\n",
       "  <th>Cluster</th>                           <td>    0.1050</td> <td>    0.030</td> <td>    3.545</td> <td> 0.000</td> <td>    0.047</td> <td>    0.163</td>\n",
       "</tr>\n",
       "<tr>\n",
       "  <th>TIME</th>                              <td>   -0.0109</td> <td>    0.014</td> <td>   -0.783</td> <td> 0.434</td> <td>   -0.038</td> <td>    0.016</td>\n",
       "</tr>\n",
       "<tr>\n",
       "  <th>INVAGE_Children</th>                   <td>    1.7467</td> <td>    2.125</td> <td>    0.822</td> <td> 0.411</td> <td>   -2.426</td> <td>    5.919</td>\n",
       "</tr>\n",
       "<tr>\n",
       "  <th>INVAGE_Senior</th>                     <td>    0.0326</td> <td>    0.236</td> <td>    0.138</td> <td> 0.890</td> <td>   -0.431</td> <td>    0.497</td>\n",
       "</tr>\n",
       "<tr>\n",
       "  <th>INVAGE_Super Senior</th>               <td>    0.0545</td> <td>    0.239</td> <td>    0.228</td> <td> 0.820</td> <td>   -0.415</td> <td>    0.524</td>\n",
       "</tr>\n",
       "<tr>\n",
       "  <th>INVAGE_Young Adult</th>                <td>   -0.3153</td> <td>    0.206</td> <td>   -1.532</td> <td> 0.126</td> <td>   -0.719</td> <td>    0.089</td>\n",
       "</tr>\n",
       "<tr>\n",
       "  <th>RDSFCOND_Dry</th>                      <td>   -0.3316</td> <td>    1.042</td> <td>   -0.318</td> <td> 0.750</td> <td>   -2.377</td> <td>    1.714</td>\n",
       "</tr>\n",
       "<tr>\n",
       "  <th>RDSFCOND_Loose Snow</th>               <td>   -0.7110</td> <td>    1.231</td> <td>   -0.577</td> <td> 0.564</td> <td>   -3.128</td> <td>    1.706</td>\n",
       "</tr>\n",
       "<tr>\n",
       "  <th>RDSFCOND_Other</th>                    <td>   -0.8836</td> <td>    1.337</td> <td>   -0.661</td> <td> 0.509</td> <td>   -3.508</td> <td>    1.741</td>\n",
       "</tr>\n",
       "<tr>\n",
       "  <th>RDSFCOND_Packed Snow</th>              <td>    0.2767</td> <td>    1.638</td> <td>    0.169</td> <td> 0.866</td> <td>   -2.940</td> <td>    3.494</td>\n",
       "</tr>\n",
       "<tr>\n",
       "  <th>RDSFCOND_Slush</th>                    <td>   -1.5567</td> <td>    1.280</td> <td>   -1.217</td> <td> 0.224</td> <td>   -4.069</td> <td>    0.956</td>\n",
       "</tr>\n",
       "<tr>\n",
       "  <th>RDSFCOND_Wet</th>                      <td>   -0.5084</td> <td>    1.042</td> <td>   -0.488</td> <td> 0.626</td> <td>   -2.554</td> <td>    1.537</td>\n",
       "</tr>\n",
       "<tr>\n",
       "  <th>VISIBILITY_Clear</th>                  <td>   -0.7861</td> <td>    1.039</td> <td>   -0.757</td> <td> 0.449</td> <td>   -2.826</td> <td>    1.253</td>\n",
       "</tr>\n",
       "<tr>\n",
       "  <th>VISIBILITY_Fog, Mist, Smoke, Dust</th> <td>   -1.4815</td> <td>    2.077</td> <td>   -0.713</td> <td> 0.476</td> <td>   -5.559</td> <td>    2.596</td>\n",
       "</tr>\n",
       "<tr>\n",
       "  <th>VISIBILITY_Freezing Rain</th>          <td>   -1.5186</td> <td>    1.525</td> <td>   -0.996</td> <td> 0.320</td> <td>   -4.513</td> <td>    1.476</td>\n",
       "</tr>\n",
       "<tr>\n",
       "  <th>VISIBILITY_Other</th>                  <td>    0.5083</td> <td>    1.334</td> <td>    0.381</td> <td> 0.703</td> <td>   -2.110</td> <td>    3.127</td>\n",
       "</tr>\n",
       "<tr>\n",
       "  <th>VISIBILITY_Rain</th>                   <td>    0.0667</td> <td>    1.056</td> <td>    0.063</td> <td> 0.950</td> <td>   -2.007</td> <td>    2.140</td>\n",
       "</tr>\n",
       "<tr>\n",
       "  <th>VISIBILITY_Snow</th>                   <td>   -0.5033</td> <td>    1.135</td> <td>   -0.444</td> <td> 0.657</td> <td>   -2.731</td> <td>    1.724</td>\n",
       "</tr>\n",
       "<tr>\n",
       "  <th>LIGHT_Dark</th>                        <td>   -0.2783</td> <td>    0.228</td> <td>   -1.222</td> <td> 0.222</td> <td>   -0.725</td> <td>    0.169</td>\n",
       "</tr>\n",
       "<tr>\n",
       "  <th>LIGHT_Dawn</th>                        <td>    3.0429</td> <td>    1.394</td> <td>    2.183</td> <td> 0.029</td> <td>    0.306</td> <td>    5.780</td>\n",
       "</tr>\n",
       "<tr>\n",
       "  <th>LIGHT_Daylight</th>                    <td>   -0.1180</td> <td>    0.187</td> <td>   -0.631</td> <td> 0.528</td> <td>   -0.485</td> <td>    0.249</td>\n",
       "</tr>\n",
       "<tr>\n",
       "  <th>LIGHT_Dusk</th>                        <td>    1.1139</td> <td>    0.713</td> <td>    1.563</td> <td> 0.118</td> <td>   -0.285</td> <td>    2.513</td>\n",
       "</tr>\n",
       "<tr>\n",
       "  <th>VEHTYPE_Medium-size Vehicle</th>       <td>   -0.4030</td> <td>    0.430</td> <td>   -0.938</td> <td> 0.348</td> <td>   -1.246</td> <td>    0.440</td>\n",
       "</tr>\n",
       "<tr>\n",
       "  <th>VEHTYPE_Other</th>                     <td>   -0.6125</td> <td>    0.879</td> <td>   -0.697</td> <td> 0.486</td> <td>   -2.338</td> <td>    1.113</td>\n",
       "</tr>\n",
       "<tr>\n",
       "  <th>VEHTYPE_Small-size Vehicle</th>        <td>   -0.3897</td> <td>    0.296</td> <td>   -1.317</td> <td> 0.188</td> <td>   -0.971</td> <td>    0.191</td>\n",
       "</tr>\n",
       "<tr>\n",
       "  <th>VEHTYPE_Two Wheeler</th>               <td>   -1.1651</td> <td>    0.418</td> <td>   -2.784</td> <td> 0.006</td> <td>   -1.987</td> <td>   -0.343</td>\n",
       "</tr>\n",
       "</table>\n",
       "<table class=\"simpletable\">\n",
       "<tr>\n",
       "  <th>Omnibus:</th>       <td>104.212</td> <th>  Durbin-Watson:     </th> <td>   0.707</td>\n",
       "</tr>\n",
       "<tr>\n",
       "  <th>Prob(Omnibus):</th> <td> 0.000</td>  <th>  Jarque-Bera (JB):  </th> <td> 149.654</td>\n",
       "</tr>\n",
       "<tr>\n",
       "  <th>Skew:</th>          <td> 1.053</td>  <th>  Prob(JB):          </th> <td>3.18e-33</td>\n",
       "</tr>\n",
       "<tr>\n",
       "  <th>Kurtosis:</th>      <td> 3.806</td>  <th>  Cond. No.          </th> <td>1.17e+16</td>\n",
       "</tr>\n",
       "</table><br/><br/>Notes:<br/>[1] Standard Errors assume that the covariance matrix of the errors is correctly specified.<br/>[2] The smallest eigenvalue is 6.31e-26. This might indicate that there are<br/>strong multicollinearity problems or that the design matrix is singular."
      ],
      "text/plain": [
       "<class 'statsmodels.iolib.summary.Summary'>\n",
       "\"\"\"\n",
       "                            OLS Regression Results                            \n",
       "==============================================================================\n",
       "Dep. Variable:                  COUNT   R-squared:                       0.093\n",
       "Model:                            OLS   Adj. R-squared:                  0.054\n",
       "Method:                 Least Squares   F-statistic:                     2.385\n",
       "Date:                Fri, 11 Mar 2022   Prob (F-statistic):           7.38e-05\n",
       "Time:                        00:40:20   Log-Likelihood:                -1457.4\n",
       "No. Observations:                 706   AIC:                             2975.\n",
       "Df Residuals:                     676   BIC:                             3112.\n",
       "Df Model:                          29                                         \n",
       "Covariance Type:            nonrobust                                         \n",
       "=====================================================================================================\n",
       "                                        coef    std err          t      P>|t|      [0.025      0.975]\n",
       "-----------------------------------------------------------------------------------------------------\n",
       "const                                 3.5632      1.998      1.783      0.075      -0.360       7.487\n",
       "IncidentsTotal                       -0.0007      0.001     -0.833      0.405      -0.002       0.001\n",
       "SeverityScore                         9.7197      4.935      1.969      0.049       0.029      19.410\n",
       "PercentOfVehicles                     5.0140      3.155      1.589      0.112      -1.180      11.208\n",
       "AvgAcceleration                       0.6054      0.507      1.193      0.233      -0.391       1.602\n",
       "Cluster                               0.1050      0.030      3.545      0.000       0.047       0.163\n",
       "TIME                                 -0.0109      0.014     -0.783      0.434      -0.038       0.016\n",
       "INVAGE_Children                       1.7467      2.125      0.822      0.411      -2.426       5.919\n",
       "INVAGE_Senior                         0.0326      0.236      0.138      0.890      -0.431       0.497\n",
       "INVAGE_Super Senior                   0.0545      0.239      0.228      0.820      -0.415       0.524\n",
       "INVAGE_Young Adult                   -0.3153      0.206     -1.532      0.126      -0.719       0.089\n",
       "RDSFCOND_Dry                         -0.3316      1.042     -0.318      0.750      -2.377       1.714\n",
       "RDSFCOND_Loose Snow                  -0.7110      1.231     -0.577      0.564      -3.128       1.706\n",
       "RDSFCOND_Other                       -0.8836      1.337     -0.661      0.509      -3.508       1.741\n",
       "RDSFCOND_Packed Snow                  0.2767      1.638      0.169      0.866      -2.940       3.494\n",
       "RDSFCOND_Slush                       -1.5567      1.280     -1.217      0.224      -4.069       0.956\n",
       "RDSFCOND_Wet                         -0.5084      1.042     -0.488      0.626      -2.554       1.537\n",
       "VISIBILITY_Clear                     -0.7861      1.039     -0.757      0.449      -2.826       1.253\n",
       "VISIBILITY_Fog, Mist, Smoke, Dust    -1.4815      2.077     -0.713      0.476      -5.559       2.596\n",
       "VISIBILITY_Freezing Rain             -1.5186      1.525     -0.996      0.320      -4.513       1.476\n",
       "VISIBILITY_Other                      0.5083      1.334      0.381      0.703      -2.110       3.127\n",
       "VISIBILITY_Rain                       0.0667      1.056      0.063      0.950      -2.007       2.140\n",
       "VISIBILITY_Snow                      -0.5033      1.135     -0.444      0.657      -2.731       1.724\n",
       "LIGHT_Dark                           -0.2783      0.228     -1.222      0.222      -0.725       0.169\n",
       "LIGHT_Dawn                            3.0429      1.394      2.183      0.029       0.306       5.780\n",
       "LIGHT_Daylight                       -0.1180      0.187     -0.631      0.528      -0.485       0.249\n",
       "LIGHT_Dusk                            1.1139      0.713      1.563      0.118      -0.285       2.513\n",
       "VEHTYPE_Medium-size Vehicle          -0.4030      0.430     -0.938      0.348      -1.246       0.440\n",
       "VEHTYPE_Other                        -0.6125      0.879     -0.697      0.486      -2.338       1.113\n",
       "VEHTYPE_Small-size Vehicle           -0.3897      0.296     -1.317      0.188      -0.971       0.191\n",
       "VEHTYPE_Two Wheeler                  -1.1651      0.418     -2.784      0.006      -1.987      -0.343\n",
       "==============================================================================\n",
       "Omnibus:                      104.212   Durbin-Watson:                   0.707\n",
       "Prob(Omnibus):                  0.000   Jarque-Bera (JB):              149.654\n",
       "Skew:                           1.053   Prob(JB):                     3.18e-33\n",
       "Kurtosis:                       3.806   Cond. No.                     1.17e+16\n",
       "==============================================================================\n",
       "\n",
       "Notes:\n",
       "[1] Standard Errors assume that the covariance matrix of the errors is correctly specified.\n",
       "[2] The smallest eigenvalue is 6.31e-26. This might indicate that there are\n",
       "strong multicollinearity problems or that the design matrix is singular.\n",
       "\"\"\""
      ]
     },
     "execution_count": 24,
     "metadata": {},
     "output_type": "execute_result"
    }
   ],
   "source": [
    "results.summary()"
   ]
  },
  {
   "cell_type": "code",
   "execution_count": 17,
   "metadata": {},
   "outputs": [
    {
     "data": {
      "text/plain": [
       "<AxesSubplot:xlabel='COUNT'>"
      ]
     },
     "execution_count": 17,
     "metadata": {},
     "output_type": "execute_result"
    },
    {
     "data": {
      "image/png": "[encoded data removed]",
      "text/plain": [
       "<Figure size 432x288 with 1 Axes>"
      ]
     },
     "metadata": {
      "needs_background": "light"
     },
     "output_type": "display_data"
    }
   ],
   "source": [
    "sns.residplot(y = results.predict(X), x = Y)"
   ]
  },
  {
   "cell_type": "code",
   "execution_count": 54,
   "metadata": {},
   "outputs": [
    {
     "name": "stdout",
     "output_type": "stream",
     "text": [
      "\n",
      "Regression statistics\n",
      "\n",
      "                      Mean Error (ME) : -0.0000\n",
      "       Root Mean Squared Error (RMSE) : 1.8406\n",
      "            Mean Absolute Error (MAE) : 1.4253\n",
      "          Mean Percentage Error (MPE) : -44.9880\n",
      "Mean Absolute Percentage Error (MAPE) : 70.7520\n"
     ]
    }
   ],
   "source": [
    "regressionSummary(Y, results.predict(X))"
   ]
  },
  {
   "cell_type": "code",
   "execution_count": null,
   "metadata": {},
   "outputs": [],
   "source": [
    "#results.params.reset_index().rename(columns = {'index': 'Variables', '0': 'Coefficients'})"
   ]
  },
  {
   "cell_type": "code",
   "execution_count": 15,
   "metadata": {},
   "outputs": [],
   "source": [
    "#X = ultimate_df[[col for col in ultimate_df.columns if col not in ('COUNT', 'WARDNUM', 'LATITUDE', 'LONGITUDE', 'Latitude', 'Longitude',  'PercentCar', 'PercentHDT', 'PercentLDT', 'PercentMDT', 'PercentMPV', 'PercentOther', 'VEHTYPE', 'INVAGE')]]\n",
    "# X = ultimate_df[['SeverityScore', 'DRIVACT', 'DRIVCOND', 'TRAFFCTL', 'INVAGE', 'AvgAcceleration', 'VEHTYPE', 'VISIBILITY', 'PercentOfVehicles',  'LIGHT']]\n",
    "\n",
    "# X = pd.get_dummies(X, drop_first = True)\n",
    "\n",
    "# need to remove the columns with 0s in their names\n",
    "# the columns with 0 in their names are the ones which are structural zeros/not applicables\n",
    "\n",
    "#X = X[[col for col in X.columns if '0' not in col]]"
   ]
  },
  {
   "cell_type": "code",
   "execution_count": 16,
   "metadata": {},
   "outputs": [
    {
     "data": {
      "text/plain": [
       "(706, 44)"
      ]
     },
     "execution_count": 16,
     "metadata": {},
     "output_type": "execute_result"
    }
   ],
   "source": [
    "X.shape"
   ]
  },
  {
   "cell_type": "code",
   "execution_count": 25,
   "metadata": {},
   "outputs": [],
   "source": [
    "Y = ultimate_df['COUNT']\n",
    "\n",
    "train_X, valid_X, train_Y, valid_Y =  train_test_split(X, Y, test_size = 0.2, random_state = 1)"
   ]
  },
  {
   "cell_type": "code",
   "execution_count": 26,
   "metadata": {},
   "outputs": [
    {
     "name": "stdout",
     "output_type": "stream",
     "text": [
      "\n",
      "Regression statistics\n",
      "\n",
      "                      Mean Error (ME) : 0.1343\n",
      "       Root Mean Squared Error (RMSE) : 2.1135\n",
      "            Mean Absolute Error (MAE) : 1.6914\n",
      "          Mean Percentage Error (MPE) : -54.8264\n",
      "Mean Absolute Percentage Error (MAPE) : 86.1793\n"
     ]
    }
   ],
   "source": [
    "# Does the model perform better than the null model?\n",
    "# Our created models must be able to beat this:\n",
    "# I'm comparing valid_Y to the mean of COUNT. \n",
    "\n",
    "regressionSummary(valid_Y, np.repeat(Y.mean(), valid_Y.shape))"
   ]
  },
  {
   "cell_type": "code",
   "execution_count": 27,
   "metadata": {},
   "outputs": [
    {
     "data": {
      "text/plain": [
       "LinearRegression()"
      ]
     },
     "execution_count": 27,
     "metadata": {},
     "output_type": "execute_result"
    }
   ],
   "source": [
    "linear_model = LinearRegression()\n",
    "linear_model.fit(train_X, train_Y)"
   ]
  },
  {
   "cell_type": "code",
   "execution_count": 28,
   "metadata": {},
   "outputs": [
    {
     "name": "stdout",
     "output_type": "stream",
     "text": [
      "\n",
      "Regression statistics\n",
      "\n",
      "                      Mean Error (ME) : -0.0000\n",
      "       Root Mean Squared Error (RMSE) : 1.8696\n",
      "            Mean Absolute Error (MAE) : 1.4531\n",
      "          Mean Percentage Error (MPE) : -48.5644\n",
      "Mean Absolute Percentage Error (MAPE) : 75.0999\n",
      "None\n",
      "\n",
      "Regression statistics\n",
      "\n",
      "                      Mean Error (ME) : 0.0346\n",
      "       Root Mean Squared Error (RMSE) : 2.1994\n",
      "            Mean Absolute Error (MAE) : 1.7262\n",
      "          Mean Percentage Error (MPE) : -55.2275\n",
      "Mean Absolute Percentage Error (MAPE) : 86.2695\n"
     ]
    }
   ],
   "source": [
    "print(regressionSummary(train_Y, linear_model.predict(train_X)))\n",
    "regressionSummary(valid_Y, linear_model.predict(valid_X))"
   ]
  },
  {
   "cell_type": "code",
   "execution_count": 29,
   "metadata": {},
   "outputs": [
    {
     "name": "stderr",
     "output_type": "stream",
     "text": [
      "Estimating transforms: 100%|██████████| 1000/1000 [00:02<00:00, 470.69it/s]\n"
     ]
    },
    {
     "data": {
      "image/png": "[encoded data removed]",
      "text/plain": [
       "<Figure size 576x684 with 2 Axes>"
      ]
     },
     "metadata": {
      "needs_background": "light"
     },
     "output_type": "display_data"
    }
   ],
   "source": [
    "explainer = shap.Explainer(linear_model, masker=shap.maskers.Impute(data= X),\n",
    "                           feature_names= X.columns, algorithm=\"linear\")\n",
    "shap_values = explainer.shap_values(X)\n",
    "shap.summary_plot(shap_values, X, plot_type = 'violin')"
   ]
  },
  {
   "cell_type": "code",
   "execution_count": 22,
   "metadata": {},
   "outputs": [
    {
     "data": {
      "text/html": [
       "<div>\n",
       "<style scoped>\n",
       "    .dataframe tbody tr th:only-of-type {\n",
       "        vertical-align: middle;\n",
       "    }\n",
       "\n",
       "    .dataframe tbody tr th {\n",
       "        vertical-align: top;\n",
       "    }\n",
       "\n",
       "    .dataframe thead th {\n",
       "        text-align: right;\n",
       "    }\n",
       "</style>\n",
       "<table border=\"1\" class=\"dataframe\">\n",
       "  <thead>\n",
       "    <tr style=\"text-align: right;\">\n",
       "      <th></th>\n",
       "      <th>Actual</th>\n",
       "      <th>Predicted</th>\n",
       "    </tr>\n",
       "  </thead>\n",
       "  <tbody>\n",
       "    <tr>\n",
       "      <th>605</th>\n",
       "      <td>1</td>\n",
       "      <td>2.919491</td>\n",
       "    </tr>\n",
       "    <tr>\n",
       "      <th>425</th>\n",
       "      <td>2</td>\n",
       "      <td>3.627372</td>\n",
       "    </tr>\n",
       "    <tr>\n",
       "      <th>334</th>\n",
       "      <td>1</td>\n",
       "      <td>2.210006</td>\n",
       "    </tr>\n",
       "    <tr>\n",
       "      <th>457</th>\n",
       "      <td>4</td>\n",
       "      <td>3.600056</td>\n",
       "    </tr>\n",
       "    <tr>\n",
       "      <th>187</th>\n",
       "      <td>1</td>\n",
       "      <td>1.024437</td>\n",
       "    </tr>\n",
       "    <tr>\n",
       "      <th>...</th>\n",
       "      <td>...</td>\n",
       "      <td>...</td>\n",
       "    </tr>\n",
       "    <tr>\n",
       "      <th>119</th>\n",
       "      <td>4</td>\n",
       "      <td>3.859712</td>\n",
       "    </tr>\n",
       "    <tr>\n",
       "      <th>82</th>\n",
       "      <td>6</td>\n",
       "      <td>3.828721</td>\n",
       "    </tr>\n",
       "    <tr>\n",
       "      <th>615</th>\n",
       "      <td>4</td>\n",
       "      <td>2.878520</td>\n",
       "    </tr>\n",
       "    <tr>\n",
       "      <th>311</th>\n",
       "      <td>3</td>\n",
       "      <td>1.302319</td>\n",
       "    </tr>\n",
       "    <tr>\n",
       "      <th>277</th>\n",
       "      <td>4</td>\n",
       "      <td>1.750408</td>\n",
       "    </tr>\n",
       "  </tbody>\n",
       "</table>\n",
       "<p>142 rows × 2 columns</p>\n",
       "</div>"
      ],
      "text/plain": [
       "     Actual  Predicted\n",
       "605       1   2.919491\n",
       "425       2   3.627372\n",
       "334       1   2.210006\n",
       "457       4   3.600056\n",
       "187       1   1.024437\n",
       "..      ...        ...\n",
       "119       4   3.859712\n",
       "82        6   3.828721\n",
       "615       4   2.878520\n",
       "311       3   1.302319\n",
       "277       4   1.750408\n",
       "\n",
       "[142 rows x 2 columns]"
      ]
     },
     "execution_count": 22,
     "metadata": {},
     "output_type": "execute_result"
    }
   ],
   "source": [
    "pd.DataFrame({'Actual': valid_Y, 'Predicted': linear_model.predict(valid_X)})"
   ]
  },
  {
   "cell_type": "code",
   "execution_count": 30,
   "metadata": {},
   "outputs": [
    {
     "data": {
      "text/plain": [
       "<AxesSubplot:xlabel='COUNT'>"
      ]
     },
     "execution_count": 30,
     "metadata": {},
     "output_type": "execute_result"
    },
    {
     "data": {
      "image/png": "[encoded data removed]",
      "text/plain": [
       "<Figure size 432x288 with 1 Axes>"
      ]
     },
     "metadata": {
      "needs_background": "light"
     },
     "output_type": "display_data"
    }
   ],
   "source": [
    "sns.residplot(y = linear_model.predict(valid_X), x = valid_Y)"
   ]
  },
  {
   "cell_type": "code",
   "execution_count": 31,
   "metadata": {},
   "outputs": [
    {
     "data": {
      "text/html": [
       "<div>\n",
       "<style scoped>\n",
       "    .dataframe tbody tr th:only-of-type {\n",
       "        vertical-align: middle;\n",
       "    }\n",
       "\n",
       "    .dataframe tbody tr th {\n",
       "        vertical-align: top;\n",
       "    }\n",
       "\n",
       "    .dataframe thead th {\n",
       "        text-align: right;\n",
       "    }\n",
       "</style>\n",
       "<table border=\"1\" class=\"dataframe\">\n",
       "  <thead>\n",
       "    <tr style=\"text-align: right;\">\n",
       "      <th></th>\n",
       "      <th>Feature</th>\n",
       "      <th>coefficients</th>\n",
       "    </tr>\n",
       "  </thead>\n",
       "  <tbody>\n",
       "    <tr>\n",
       "      <th>2</th>\n",
       "      <td>SeverityScore</td>\n",
       "      <td>6.264055e+00</td>\n",
       "    </tr>\n",
       "    <tr>\n",
       "      <th>3</th>\n",
       "      <td>PercentOfVehicles</td>\n",
       "      <td>6.190667e+00</td>\n",
       "    </tr>\n",
       "    <tr>\n",
       "      <th>24</th>\n",
       "      <td>LIGHT_Dawn</td>\n",
       "      <td>3.826046e+00</td>\n",
       "    </tr>\n",
       "    <tr>\n",
       "      <th>26</th>\n",
       "      <td>LIGHT_Dusk</td>\n",
       "      <td>1.049195e+00</td>\n",
       "    </tr>\n",
       "    <tr>\n",
       "      <th>14</th>\n",
       "      <td>RDSFCOND_Packed Snow</td>\n",
       "      <td>5.278267e-01</td>\n",
       "    </tr>\n",
       "    <tr>\n",
       "      <th>4</th>\n",
       "      <td>AvgAcceleration</td>\n",
       "      <td>1.984963e-01</td>\n",
       "    </tr>\n",
       "    <tr>\n",
       "      <th>5</th>\n",
       "      <td>Cluster</td>\n",
       "      <td>1.152758e-01</td>\n",
       "    </tr>\n",
       "    <tr>\n",
       "      <th>1</th>\n",
       "      <td>IncidentsTotal</td>\n",
       "      <td>2.101465e-03</td>\n",
       "    </tr>\n",
       "    <tr>\n",
       "      <th>7</th>\n",
       "      <td>INVAGE_Children</td>\n",
       "      <td>2.839395e-14</td>\n",
       "    </tr>\n",
       "    <tr>\n",
       "      <th>18</th>\n",
       "      <td>VISIBILITY_Fog, Mist, Smoke, Dust</td>\n",
       "      <td>4.440892e-15</td>\n",
       "    </tr>\n",
       "    <tr>\n",
       "      <th>0</th>\n",
       "      <td>const</td>\n",
       "      <td>-1.177991e-14</td>\n",
       "    </tr>\n",
       "    <tr>\n",
       "      <th>6</th>\n",
       "      <td>TIME</td>\n",
       "      <td>-1.190350e-02</td>\n",
       "    </tr>\n",
       "    <tr>\n",
       "      <th>9</th>\n",
       "      <td>INVAGE_Super Senior</td>\n",
       "      <td>-7.023650e-02</td>\n",
       "    </tr>\n",
       "    <tr>\n",
       "      <th>11</th>\n",
       "      <td>RDSFCOND_Dry</td>\n",
       "      <td>-1.083517e-01</td>\n",
       "    </tr>\n",
       "    <tr>\n",
       "      <th>25</th>\n",
       "      <td>LIGHT_Daylight</td>\n",
       "      <td>-1.266849e-01</td>\n",
       "    </tr>\n",
       "    <tr>\n",
       "      <th>16</th>\n",
       "      <td>RDSFCOND_Wet</td>\n",
       "      <td>-1.410457e-01</td>\n",
       "    </tr>\n",
       "    <tr>\n",
       "      <th>10</th>\n",
       "      <td>INVAGE_Young Adult</td>\n",
       "      <td>-1.615117e-01</td>\n",
       "    </tr>\n",
       "    <tr>\n",
       "      <th>8</th>\n",
       "      <td>INVAGE_Senior</td>\n",
       "      <td>-1.722805e-01</td>\n",
       "    </tr>\n",
       "    <tr>\n",
       "      <th>21</th>\n",
       "      <td>VISIBILITY_Rain</td>\n",
       "      <td>-2.158599e-01</td>\n",
       "    </tr>\n",
       "    <tr>\n",
       "      <th>23</th>\n",
       "      <td>LIGHT_Dark</td>\n",
       "      <td>-2.266155e-01</td>\n",
       "    </tr>\n",
       "    <tr>\n",
       "      <th>27</th>\n",
       "      <td>VEHTYPE_Medium-size Vehicle</td>\n",
       "      <td>-3.862134e-01</td>\n",
       "    </tr>\n",
       "    <tr>\n",
       "      <th>20</th>\n",
       "      <td>VISIBILITY_Other</td>\n",
       "      <td>-5.735975e-01</td>\n",
       "    </tr>\n",
       "    <tr>\n",
       "      <th>12</th>\n",
       "      <td>RDSFCOND_Loose Snow</td>\n",
       "      <td>-6.899706e-01</td>\n",
       "    </tr>\n",
       "    <tr>\n",
       "      <th>19</th>\n",
       "      <td>VISIBILITY_Freezing Rain</td>\n",
       "      <td>-7.174473e-01</td>\n",
       "    </tr>\n",
       "    <tr>\n",
       "      <th>29</th>\n",
       "      <td>VEHTYPE_Small-size Vehicle</td>\n",
       "      <td>-7.464416e-01</td>\n",
       "    </tr>\n",
       "    <tr>\n",
       "      <th>22</th>\n",
       "      <td>VISIBILITY_Snow</td>\n",
       "      <td>-8.409431e-01</td>\n",
       "    </tr>\n",
       "    <tr>\n",
       "      <th>28</th>\n",
       "      <td>VEHTYPE_Other</td>\n",
       "      <td>-8.774688e-01</td>\n",
       "    </tr>\n",
       "    <tr>\n",
       "      <th>17</th>\n",
       "      <td>VISIBILITY_Clear</td>\n",
       "      <td>-1.069706e+00</td>\n",
       "    </tr>\n",
       "    <tr>\n",
       "      <th>13</th>\n",
       "      <td>RDSFCOND_Other</td>\n",
       "      <td>-1.412360e+00</td>\n",
       "    </tr>\n",
       "    <tr>\n",
       "      <th>30</th>\n",
       "      <td>VEHTYPE_Two Wheeler</td>\n",
       "      <td>-1.445510e+00</td>\n",
       "    </tr>\n",
       "    <tr>\n",
       "      <th>15</th>\n",
       "      <td>RDSFCOND_Slush</td>\n",
       "      <td>-1.593653e+00</td>\n",
       "    </tr>\n",
       "  </tbody>\n",
       "</table>\n",
       "</div>"
      ],
      "text/plain": [
       "                              Feature  coefficients\n",
       "2                       SeverityScore  6.264055e+00\n",
       "3                   PercentOfVehicles  6.190667e+00\n",
       "24                         LIGHT_Dawn  3.826046e+00\n",
       "26                         LIGHT_Dusk  1.049195e+00\n",
       "14               RDSFCOND_Packed Snow  5.278267e-01\n",
       "4                     AvgAcceleration  1.984963e-01\n",
       "5                             Cluster  1.152758e-01\n",
       "1                      IncidentsTotal  2.101465e-03\n",
       "7                     INVAGE_Children  2.839395e-14\n",
       "18  VISIBILITY_Fog, Mist, Smoke, Dust  4.440892e-15\n",
       "0                               const -1.177991e-14\n",
       "6                                TIME -1.190350e-02\n",
       "9                 INVAGE_Super Senior -7.023650e-02\n",
       "11                       RDSFCOND_Dry -1.083517e-01\n",
       "25                     LIGHT_Daylight -1.266849e-01\n",
       "16                       RDSFCOND_Wet -1.410457e-01\n",
       "10                 INVAGE_Young Adult -1.615117e-01\n",
       "8                       INVAGE_Senior -1.722805e-01\n",
       "21                    VISIBILITY_Rain -2.158599e-01\n",
       "23                         LIGHT_Dark -2.266155e-01\n",
       "27        VEHTYPE_Medium-size Vehicle -3.862134e-01\n",
       "20                   VISIBILITY_Other -5.735975e-01\n",
       "12                RDSFCOND_Loose Snow -6.899706e-01\n",
       "19           VISIBILITY_Freezing Rain -7.174473e-01\n",
       "29         VEHTYPE_Small-size Vehicle -7.464416e-01\n",
       "22                    VISIBILITY_Snow -8.409431e-01\n",
       "28                      VEHTYPE_Other -8.774688e-01\n",
       "17                   VISIBILITY_Clear -1.069706e+00\n",
       "13                     RDSFCOND_Other -1.412360e+00\n",
       "30                VEHTYPE_Two Wheeler -1.445510e+00\n",
       "15                     RDSFCOND_Slush -1.593653e+00"
      ]
     },
     "execution_count": 31,
     "metadata": {},
     "output_type": "execute_result"
    }
   ],
   "source": [
    "pd.DataFrame({'Feature': train_X.columns, 'coefficients': linear_model.coef_}).sort_values(by = 'coefficients', ascending = False)"
   ]
  },
  {
   "cell_type": "code",
   "execution_count": 32,
   "metadata": {},
   "outputs": [
    {
     "data": {
      "image/png": "[encoded data removed]",
      "text/plain": [
       "<Figure size 648x288 with 2 Axes>"
      ]
     },
     "metadata": {
      "needs_background": "light"
     },
     "output_type": "display_data"
    }
   ],
   "source": [
    "pred_error_train = pd.DataFrame({ \n",
    " 'residual': train_Y - linear_model.predict(train_X), \n",
    " 'data set': 'training' \n",
    "}) \n",
    "pred_error_test = pd.DataFrame({ \n",
    " 'residual': valid_Y - linear_model.predict(valid_X), \n",
    " 'data set': 'test' \n",
    "}) \n",
    "\n",
    "#boxdata_df = pred_error_train.append(pred_error_test, ignore_index=True) \n",
    "fig, axes = plt.subplots(nrows=1, ncols=2) \n",
    "fig.set_size_inches(9, 4) \n",
    "common = {'bins': 100, 'range': [-pred_error_test['residual'].max(), pred_error_test['residual'].max()]} \n",
    "pred_error_train.hist(ax=axes[0], **common) \n",
    "pred_error_test.hist(ax=axes[1], **common) \n",
    "#boxdata_df.boxplot(ax=axes[2], by = 'data set') \n",
    "axes[0].set_title('training') \n",
    "axes[1].set_title('test') \n",
    "#fig.text(0.5, 0.05, 'Skew: ' + str(pred_error_train.skew()), ha = 'center')\n",
    "#axes[2].set_title(' ') \n",
    "#axes[2].set_ylim(-50, 50) \n",
    "plt.suptitle('Prediction errors') \n",
    "plt.subplots_adjust(bottom=0.1, top=0.85, wspace=0.35) \n",
    "#plt.show() "
   ]
  },
  {
   "cell_type": "code",
   "execution_count": 33,
   "metadata": {},
   "outputs": [
    {
     "data": {
      "text/plain": [
       "residual    1.049683\n",
       "dtype: float64"
      ]
     },
     "execution_count": 33,
     "metadata": {},
     "output_type": "execute_result"
    }
   ],
   "source": [
    "pred_error_train.skew()"
   ]
  },
  {
   "cell_type": "code",
   "execution_count": 34,
   "metadata": {},
   "outputs": [
    {
     "data": {
      "text/plain": [
       "residual    0.663543\n",
       "dtype: float64"
      ]
     },
     "execution_count": 34,
     "metadata": {},
     "output_type": "execute_result"
    }
   ],
   "source": [
    "pred_error_test.skew()"
   ]
  },
  {
   "cell_type": "code",
   "execution_count": 35,
   "metadata": {},
   "outputs": [
    {
     "data": {
      "text/plain": [
       "-0.08726651855861234"
      ]
     },
     "execution_count": 35,
     "metadata": {},
     "output_type": "execute_result"
    }
   ],
   "source": [
    "r2_score(valid_Y, linear_model.predict(valid_X))"
   ]
  },
  {
   "cell_type": "code",
   "execution_count": 36,
   "metadata": {},
   "outputs": [],
   "source": [
    "# these functions assume the existence of a train_Y \n",
    "def train_model(variables): \n",
    "    if len(variables) == 0: \n",
    "        return None \n",
    "    model = LinearRegression() \n",
    "    model.fit(train_X[variables], train_Y) \n",
    "    return model \n",
    "    \n",
    "def score_model(model, variables): \n",
    "    if len(variables) == 0: \n",
    "        return AIC_score(train_Y, [train_Y.mean()] * len(train_Y), model, df=1) \n",
    "    return AIC_score(train_Y, model.predict(train_X[variables]), model) "
   ]
  },
  {
   "cell_type": "code",
   "execution_count": 37,
   "metadata": {},
   "outputs": [
    {
     "name": "stdout",
     "output_type": "stream",
     "text": [
      "Variables: const, IncidentsTotal, SeverityScore, PercentOfVehicles, AvgAcceleration, Cluster, TIME, INVAGE_Children, INVAGE_Senior, INVAGE_Super Senior, INVAGE_Young Adult, RDSFCOND_Dry, RDSFCOND_Loose Snow, RDSFCOND_Other, RDSFCOND_Packed Snow, RDSFCOND_Slush, RDSFCOND_Wet, VISIBILITY_Clear, VISIBILITY_Fog, Mist, Smoke, Dust, VISIBILITY_Freezing Rain, VISIBILITY_Other, VISIBILITY_Rain, VISIBILITY_Snow, LIGHT_Dark, LIGHT_Dawn, LIGHT_Daylight, LIGHT_Dusk, VEHTYPE_Medium-size Vehicle, VEHTYPE_Other, VEHTYPE_Small-size Vehicle, VEHTYPE_Two Wheeler\n",
      "Start: score=2370.73, constant\n",
      "Step: score=2358.71, add Cluster\n",
      "Step: score=2350.16, add VISIBILITY_Rain\n",
      "Step: score=2346.83, add VEHTYPE_Two Wheeler\n",
      "Step: score=2342.90, add VEHTYPE_Small-size Vehicle\n",
      "Step: score=2340.46, add PercentOfVehicles\n",
      "Step: score=2338.41, add LIGHT_Dawn\n",
      "Step: score=2337.11, add SeverityScore\n",
      "Step: score=2336.47, add LIGHT_Dusk\n",
      "Step: score=2336.23, add RDSFCOND_Slush\n",
      "Step: score=2336.23, add None\n"
     ]
    }
   ],
   "source": [
    "forwards_model, best_variables_forward = forward_selection(train_X.columns, train_model, score_model, verbose = True)"
   ]
  },
  {
   "cell_type": "code",
   "execution_count": 38,
   "metadata": {},
   "outputs": [
    {
     "name": "stdout",
     "output_type": "stream",
     "text": [
      "\n",
      "Regression statistics\n",
      "\n",
      "                      Mean Error (ME) : -0.0000\n",
      "       Root Mean Squared Error (RMSE) : 1.8827\n",
      "            Mean Absolute Error (MAE) : 1.4613\n",
      "          Mean Percentage Error (MPE) : -49.1131\n",
      "Mean Absolute Percentage Error (MAPE) : 75.5476\n",
      "None\n",
      "\n",
      "Regression statistics\n",
      "\n",
      "                      Mean Error (ME) : 0.0531\n",
      "       Root Mean Squared Error (RMSE) : 2.0934\n",
      "            Mean Absolute Error (MAE) : 1.6605\n",
      "          Mean Percentage Error (MPE) : -54.3675\n",
      "Mean Absolute Percentage Error (MAPE) : 84.1841\n"
     ]
    }
   ],
   "source": [
    "print(regressionSummary(train_Y, forwards_model.predict(train_X[best_variables_forward])))\n",
    "regressionSummary(valid_Y, forwards_model.predict(valid_X[best_variables_forward]))"
   ]
  },
  {
   "cell_type": "code",
   "execution_count": 39,
   "metadata": {},
   "outputs": [
    {
     "data": {
      "image/png": "[encoded data removed]",
      "text/plain": [
       "<Figure size 576x367.2 with 2 Axes>"
      ]
     },
     "metadata": {
      "needs_background": "light"
     },
     "output_type": "display_data"
    }
   ],
   "source": [
    "masker = shap.maskers.Independent(data= X[best_variables_forward])\n",
    "explainer = shap.Explainer(forwards_model, masker= masker,\n",
    "                           feature_names= valid_X[best_variables_forward].columns, algorithm=\"linear\")\n",
    "shap_values = explainer.shap_values(valid_X[best_variables_forward])\n",
    "shap.summary_plot(shap_values, valid_X[best_variables_forward], plot_type = 'violin')"
   ]
  },
  {
   "cell_type": "code",
   "execution_count": 40,
   "metadata": {},
   "outputs": [
    {
     "data": {
      "text/html": [
       "<div>\n",
       "<style scoped>\n",
       "    .dataframe tbody tr th:only-of-type {\n",
       "        vertical-align: middle;\n",
       "    }\n",
       "\n",
       "    .dataframe tbody tr th {\n",
       "        vertical-align: top;\n",
       "    }\n",
       "\n",
       "    .dataframe thead th {\n",
       "        text-align: right;\n",
       "    }\n",
       "</style>\n",
       "<table border=\"1\" class=\"dataframe\">\n",
       "  <thead>\n",
       "    <tr style=\"text-align: right;\">\n",
       "      <th></th>\n",
       "      <th>Feature</th>\n",
       "      <th>coefficients</th>\n",
       "    </tr>\n",
       "  </thead>\n",
       "  <tbody>\n",
       "    <tr>\n",
       "      <th>6</th>\n",
       "      <td>SeverityScore</td>\n",
       "      <td>9.649100</td>\n",
       "    </tr>\n",
       "    <tr>\n",
       "      <th>4</th>\n",
       "      <td>PercentOfVehicles</td>\n",
       "      <td>5.870952</td>\n",
       "    </tr>\n",
       "    <tr>\n",
       "      <th>5</th>\n",
       "      <td>LIGHT_Dawn</td>\n",
       "      <td>3.891688</td>\n",
       "    </tr>\n",
       "    <tr>\n",
       "      <th>7</th>\n",
       "      <td>LIGHT_Dusk</td>\n",
       "      <td>1.087243</td>\n",
       "    </tr>\n",
       "    <tr>\n",
       "      <th>1</th>\n",
       "      <td>VISIBILITY_Rain</td>\n",
       "      <td>0.834367</td>\n",
       "    </tr>\n",
       "    <tr>\n",
       "      <th>0</th>\n",
       "      <td>Cluster</td>\n",
       "      <td>0.113486</td>\n",
       "    </tr>\n",
       "    <tr>\n",
       "      <th>3</th>\n",
       "      <td>VEHTYPE_Small-size Vehicle</td>\n",
       "      <td>-0.544512</td>\n",
       "    </tr>\n",
       "    <tr>\n",
       "      <th>2</th>\n",
       "      <td>VEHTYPE_Two Wheeler</td>\n",
       "      <td>-1.231699</td>\n",
       "    </tr>\n",
       "    <tr>\n",
       "      <th>8</th>\n",
       "      <td>RDSFCOND_Slush</td>\n",
       "      <td>-1.279436</td>\n",
       "    </tr>\n",
       "  </tbody>\n",
       "</table>\n",
       "</div>"
      ],
      "text/plain": [
       "                      Feature  coefficients\n",
       "6               SeverityScore      9.649100\n",
       "4           PercentOfVehicles      5.870952\n",
       "5                  LIGHT_Dawn      3.891688\n",
       "7                  LIGHT_Dusk      1.087243\n",
       "1             VISIBILITY_Rain      0.834367\n",
       "0                     Cluster      0.113486\n",
       "3  VEHTYPE_Small-size Vehicle     -0.544512\n",
       "2         VEHTYPE_Two Wheeler     -1.231699\n",
       "8              RDSFCOND_Slush     -1.279436"
      ]
     },
     "execution_count": 40,
     "metadata": {},
     "output_type": "execute_result"
    }
   ],
   "source": [
    "pd.DataFrame({'Feature': best_variables_forward, 'coefficients': forwards_model.coef_}).sort_values(by = 'coefficients', ascending = False)"
   ]
  },
  {
   "cell_type": "code",
   "execution_count": 41,
   "metadata": {},
   "outputs": [
    {
     "data": {
      "image/png": "[encoded data removed]",
      "text/plain": [
       "<Figure size 648x288 with 2 Axes>"
      ]
     },
     "metadata": {
      "needs_background": "light"
     },
     "output_type": "display_data"
    }
   ],
   "source": [
    "pred_error_train = pd.DataFrame({ \n",
    " 'residual': train_Y - forwards_model.predict(train_X[best_variables_forward]), \n",
    " 'data set': 'training' \n",
    "}) \n",
    "pred_error_test = pd.DataFrame({ \n",
    " 'residual': valid_Y - forwards_model.predict(valid_X[best_variables_forward]), \n",
    " 'data set': 'test' \n",
    "}) \n",
    "\n",
    "#boxdata_df = pred_error_train.append(pred_error_test, ignore_index=True) \n",
    "fig, axes = plt.subplots(nrows=1, ncols=2) \n",
    "fig.set_size_inches(9, 4) \n",
    "common = {'bins': 100, 'range': [-pred_error_test['residual'].max(), pred_error_test['residual'].max()]} \n",
    "pred_error_train.hist(ax=axes[0], **common) \n",
    "pred_error_test.hist(ax=axes[1], **common) \n",
    "#boxdata_df.boxplot(ax=axes[2], by = 'data set') \n",
    "axes[0].set_title('training') \n",
    "axes[1].set_title('test') \n",
    "#axes[2].set_title(' ') \n",
    "#axes[2].set_ylim(-50, 50) \n",
    "plt.suptitle('Prediction errors') \n",
    "plt.subplots_adjust(bottom=0.1, top=0.85, wspace=0.35) \n",
    "#plt.show() "
   ]
  },
  {
   "cell_type": "code",
   "execution_count": 42,
   "metadata": {},
   "outputs": [
    {
     "data": {
      "text/plain": [
       "residual    1.088931\n",
       "dtype: float64"
      ]
     },
     "execution_count": 42,
     "metadata": {},
     "output_type": "execute_result"
    }
   ],
   "source": [
    "pred_error_train.skew()"
   ]
  },
  {
   "cell_type": "code",
   "execution_count": 43,
   "metadata": {},
   "outputs": [
    {
     "data": {
      "text/plain": [
       "residual    0.955445\n",
       "dtype: float64"
      ]
     },
     "execution_count": 43,
     "metadata": {},
     "output_type": "execute_result"
    }
   ],
   "source": [
    "pred_error_test.skew()"
   ]
  },
  {
   "cell_type": "code",
   "execution_count": 44,
   "metadata": {},
   "outputs": [
    {
     "data": {
      "text/plain": [
       "<AxesSubplot:xlabel='COUNT'>"
      ]
     },
     "execution_count": 44,
     "metadata": {},
     "output_type": "execute_result"
    },
    {
     "data": {
      "image/png": "[encoded data removed]",
      "text/plain": [
       "<Figure size 432x288 with 1 Axes>"
      ]
     },
     "metadata": {
      "needs_background": "light"
     },
     "output_type": "display_data"
    }
   ],
   "source": [
    "sns.residplot(y = forwards_model.predict(valid_X[best_variables_forward]), x = valid_Y)"
   ]
  },
  {
   "cell_type": "code",
   "execution_count": 45,
   "metadata": {},
   "outputs": [],
   "source": [
    "backwards_model, best_variables_backward = backward_elimination(train_X.columns, train_model, score_model, verbose = False)"
   ]
  },
  {
   "cell_type": "code",
   "execution_count": 46,
   "metadata": {},
   "outputs": [
    {
     "name": "stdout",
     "output_type": "stream",
     "text": [
      "\n",
      "Regression statistics\n",
      "\n",
      "                      Mean Error (ME) : -0.0000\n",
      "       Root Mean Squared Error (RMSE) : 1.8867\n",
      "            Mean Absolute Error (MAE) : 1.4620\n",
      "          Mean Percentage Error (MPE) : -49.2122\n",
      "Mean Absolute Percentage Error (MAPE) : 75.5676\n",
      "None\n",
      "\n",
      "Regression statistics\n",
      "\n",
      "                      Mean Error (ME) : 0.0477\n",
      "       Root Mean Squared Error (RMSE) : 2.0887\n",
      "            Mean Absolute Error (MAE) : 1.6583\n",
      "          Mean Percentage Error (MPE) : -54.5409\n",
      "Mean Absolute Percentage Error (MAPE) : 84.1906\n"
     ]
    }
   ],
   "source": [
    "print(regressionSummary(train_Y, backwards_model.predict(train_X[best_variables_backward])))\n",
    "regressionSummary(valid_Y, backwards_model.predict(valid_X[best_variables_backward]))"
   ]
  },
  {
   "cell_type": "code",
   "execution_count": 47,
   "metadata": {},
   "outputs": [
    {
     "data": {
      "text/html": [
       "<div>\n",
       "<style scoped>\n",
       "    .dataframe tbody tr th:only-of-type {\n",
       "        vertical-align: middle;\n",
       "    }\n",
       "\n",
       "    .dataframe tbody tr th {\n",
       "        vertical-align: top;\n",
       "    }\n",
       "\n",
       "    .dataframe thead th {\n",
       "        text-align: right;\n",
       "    }\n",
       "</style>\n",
       "<table border=\"1\" class=\"dataframe\">\n",
       "  <thead>\n",
       "    <tr style=\"text-align: right;\">\n",
       "      <th></th>\n",
       "      <th>Feature</th>\n",
       "      <th>coefficients</th>\n",
       "    </tr>\n",
       "  </thead>\n",
       "  <tbody>\n",
       "    <tr>\n",
       "      <th>0</th>\n",
       "      <td>SeverityScore</td>\n",
       "      <td>9.246339</td>\n",
       "    </tr>\n",
       "    <tr>\n",
       "      <th>1</th>\n",
       "      <td>PercentOfVehicles</td>\n",
       "      <td>5.714475</td>\n",
       "    </tr>\n",
       "    <tr>\n",
       "      <th>5</th>\n",
       "      <td>LIGHT_Dawn</td>\n",
       "      <td>3.894253</td>\n",
       "    </tr>\n",
       "    <tr>\n",
       "      <th>6</th>\n",
       "      <td>LIGHT_Dusk</td>\n",
       "      <td>1.154359</td>\n",
       "    </tr>\n",
       "    <tr>\n",
       "      <th>2</th>\n",
       "      <td>Cluster</td>\n",
       "      <td>0.114768</td>\n",
       "    </tr>\n",
       "    <tr>\n",
       "      <th>7</th>\n",
       "      <td>VEHTYPE_Small-size Vehicle</td>\n",
       "      <td>-0.544491</td>\n",
       "    </tr>\n",
       "    <tr>\n",
       "      <th>4</th>\n",
       "      <td>VISIBILITY_Clear</td>\n",
       "      <td>-0.658312</td>\n",
       "    </tr>\n",
       "    <tr>\n",
       "      <th>8</th>\n",
       "      <td>VEHTYPE_Two Wheeler</td>\n",
       "      <td>-1.219890</td>\n",
       "    </tr>\n",
       "    <tr>\n",
       "      <th>3</th>\n",
       "      <td>RDSFCOND_Slush</td>\n",
       "      <td>-1.627201</td>\n",
       "    </tr>\n",
       "  </tbody>\n",
       "</table>\n",
       "</div>"
      ],
      "text/plain": [
       "                      Feature  coefficients\n",
       "0               SeverityScore      9.246339\n",
       "1           PercentOfVehicles      5.714475\n",
       "5                  LIGHT_Dawn      3.894253\n",
       "6                  LIGHT_Dusk      1.154359\n",
       "2                     Cluster      0.114768\n",
       "7  VEHTYPE_Small-size Vehicle     -0.544491\n",
       "4            VISIBILITY_Clear     -0.658312\n",
       "8         VEHTYPE_Two Wheeler     -1.219890\n",
       "3              RDSFCOND_Slush     -1.627201"
      ]
     },
     "execution_count": 47,
     "metadata": {},
     "output_type": "execute_result"
    }
   ],
   "source": [
    "pd.DataFrame({'Feature': best_variables_backward, 'coefficients': backwards_model.coef_}).sort_values(by = 'coefficients', ascending = False)"
   ]
  },
  {
   "cell_type": "code",
   "execution_count": 48,
   "metadata": {},
   "outputs": [
    {
     "data": {
      "image/png": "[encoded data removed]",
      "text/plain": [
       "<Figure size 648x288 with 2 Axes>"
      ]
     },
     "metadata": {
      "needs_background": "light"
     },
     "output_type": "display_data"
    }
   ],
   "source": [
    "pred_error_train = pd.DataFrame({ \n",
    " 'residual': train_Y - backwards_model.predict(train_X[best_variables_backward]), \n",
    " 'data set': 'training' \n",
    "}) \n",
    "pred_error_test = pd.DataFrame({ \n",
    " 'residual': valid_Y - backwards_model.predict(valid_X[best_variables_backward]), \n",
    " 'data set': 'test' \n",
    "}) \n",
    "\n",
    "#boxdata_df = pred_error_train.append(pred_error_test, ignore_index=True) \n",
    "fig, axes = plt.subplots(nrows=1, ncols=2) \n",
    "fig.set_size_inches(9, 4) \n",
    "common = {'bins': 100, 'range': [-pred_error_test['residual'].max(), pred_error_test['residual'].max()]} \n",
    "pred_error_train.hist(ax=axes[0], **common) \n",
    "pred_error_test.hist(ax=axes[1], **common) \n",
    "#boxdata_df.boxplot(ax=axes[2], by = 'data set') \n",
    "axes[0].set_title('training') \n",
    "axes[1].set_title('test') \n",
    "#axes[2].set_title(' ') \n",
    "#axes[2].set_ylim(-50, 50) \n",
    "plt.suptitle('Prediction errors') \n",
    "plt.subplots_adjust(bottom=0.1, top=0.85, wspace=0.35) \n",
    "#plt.show() "
   ]
  },
  {
   "cell_type": "code",
   "execution_count": 49,
   "metadata": {},
   "outputs": [
    {
     "data": {
      "text/plain": [
       "residual    1.114673\n",
       "dtype: float64"
      ]
     },
     "execution_count": 49,
     "metadata": {},
     "output_type": "execute_result"
    }
   ],
   "source": [
    "pred_error_train.skew()"
   ]
  },
  {
   "cell_type": "code",
   "execution_count": 50,
   "metadata": {},
   "outputs": [
    {
     "data": {
      "text/plain": [
       "residual    0.956529\n",
       "dtype: float64"
      ]
     },
     "execution_count": 50,
     "metadata": {},
     "output_type": "execute_result"
    }
   ],
   "source": [
    "pred_error_test.skew()"
   ]
  },
  {
   "cell_type": "code",
   "execution_count": 51,
   "metadata": {},
   "outputs": [
    {
     "data": {
      "text/plain": [
       "<AxesSubplot:xlabel='COUNT'>"
      ]
     },
     "execution_count": 51,
     "metadata": {},
     "output_type": "execute_result"
    },
    {
     "data": {
      "image/png": "[encoded data removed]",
      "text/plain": [
       "<Figure size 432x288 with 1 Axes>"
      ]
     },
     "metadata": {
      "needs_background": "light"
     },
     "output_type": "display_data"
    }
   ],
   "source": [
    "sns.residplot(y = backwards_model.predict(valid_X[best_variables_backward]), x = valid_Y)"
   ]
  },
  {
   "cell_type": "code",
   "execution_count": 52,
   "metadata": {},
   "outputs": [
    {
     "data": {
      "image/png": "[encoded data removed]",
      "text/plain": [
       "<Figure size 576x367.2 with 2 Axes>"
      ]
     },
     "metadata": {
      "needs_background": "light"
     },
     "output_type": "display_data"
    }
   ],
   "source": [
    "masker = shap.maskers.Independent(data= X[best_variables_backward])\n",
    "explainer = shap.Explainer(backwards_model, masker= masker,\n",
    "                           feature_names= valid_X[best_variables_backward].columns, algorithm=\"linear\")\n",
    "shap_values = explainer.shap_values(valid_X[best_variables_backward])\n",
    "shap.summary_plot(shap_values, valid_X[best_variables_backward])"
   ]
  },
  {
   "cell_type": "code",
   "execution_count": 73,
   "metadata": {},
   "outputs": [],
   "source": [
    "ultimate_df = pd.read_csv('Data/Created Datasets/ALL_merge_truncate3.csv', index_col = 0)\n",
    "ultimate_df['LIGHT'] = ultimate_df['LIGHT'].apply(util.lc)\n",
    "ultimate_df['TRAFFCTL'] = ultimate_df['TRAFFCTL'].apply(util.tc)\n",
    "ultimate_df['DRIVACT'] = ultimate_df['DRIVACT'].apply(util.actc)\n",
    "ultimate_df['DRIVCOND'] = ultimate_df['DRIVCOND'].apply(util.condc)\n",
    "ultimate_df['VEHTYPE'] = ultimate_df['VEHTYPE'].apply(util.vehc)\n",
    "ultimate_df['INVAGE'] = ultimate_df['INVAGE'].apply(util.agec)\n",
    "X = ultimate_df[[col for col in ultimate_df.columns if col not in ('COUNT', 'WARDNUM', 'LATITUDE', 'LONGITUDE', 'Latitude', 'Longitude','DRIVACT', 'DRIVCOND', 'TRAFFCTL', 'SPEEDING', 'ALCOHOL', 'REDLIGHT', 'AG_DRIV')]]\n",
    "# for smaller complete dataset\n",
    "#X = ultimate_df[['SeverityScore', 'DRIVACT', 'DRIVCOND', 'TRAFFCTL', 'INVAGE', 'AvgAcceleration', 'VEHTYPE', 'VISIBILITY', 'PercentOfVehicles',  'LIGHT']]\n",
    "# for bigger dataset\n",
    "\n",
    "#ultimate_df['MANOEUVER'] = ultimate_df['MANOEUVER'].apply(util.manc)\n",
    "X = pd.get_dummies(X, drop_first = True)\n",
    "\n",
    "#X = sm.add_constant(X)\n",
    "\n",
    "Y = ultimate_df['COUNT']\n",
    "\n",
    "train_X, valid_X, train_Y, valid_Y =  train_test_split(X, Y, test_size = 0.2, random_state = 1)"
   ]
  },
  {
   "cell_type": "code",
   "execution_count": 74,
   "metadata": {},
   "outputs": [
    {
     "data": {
      "text/plain": [
       "RidgeCV(alphas=array([ 0.1,  1. , 10. ]))"
      ]
     },
     "execution_count": 74,
     "metadata": {},
     "output_type": "execute_result"
    }
   ],
   "source": [
    "ridge_model = RidgeCV()\n",
    "ridge_model.fit(train_X, train_Y)"
   ]
  },
  {
   "cell_type": "code",
   "execution_count": 75,
   "metadata": {},
   "outputs": [
    {
     "name": "stdout",
     "output_type": "stream",
     "text": [
      "\n",
      "Regression statistics\n",
      "\n",
      "                      Mean Error (ME) : -0.0000\n",
      "       Root Mean Squared Error (RMSE) : 1.8932\n",
      "            Mean Absolute Error (MAE) : 1.4729\n",
      "          Mean Percentage Error (MPE) : -50.4355\n",
      "Mean Absolute Percentage Error (MAPE) : 76.7858\n",
      "None\n",
      "\n",
      "Regression statistics\n",
      "\n",
      "                      Mean Error (ME) : 0.0344\n",
      "       Root Mean Squared Error (RMSE) : 2.2307\n",
      "            Mean Absolute Error (MAE) : 1.7617\n",
      "          Mean Percentage Error (MPE) : -57.8357\n",
      "Mean Absolute Percentage Error (MAPE) : 89.4893\n"
     ]
    }
   ],
   "source": [
    "print(regressionSummary(train_Y, ridge_model.predict(train_X)))\n",
    "regressionSummary(valid_Y, ridge_model.predict(valid_X))"
   ]
  },
  {
   "cell_type": "code",
   "execution_count": 76,
   "metadata": {},
   "outputs": [
    {
     "data": {
      "text/plain": [
       "<AxesSubplot:xlabel='COUNT'>"
      ]
     },
     "execution_count": 76,
     "metadata": {},
     "output_type": "execute_result"
    },
    {
     "data": {
      "image/png": "[encoded data removed]",
      "text/plain": [
       "<Figure size 432x288 with 1 Axes>"
      ]
     },
     "metadata": {
      "needs_background": "light"
     },
     "output_type": "display_data"
    }
   ],
   "source": [
    "sns.residplot(y = ridge_model.predict(valid_X), x = valid_Y)"
   ]
  },
  {
   "cell_type": "code",
   "execution_count": 77,
   "metadata": {},
   "outputs": [
    {
     "data": {
      "image/png": "[encoded data removed]",
      "text/plain": [
       "<Figure size 648x288 with 2 Axes>"
      ]
     },
     "metadata": {
      "needs_background": "light"
     },
     "output_type": "display_data"
    }
   ],
   "source": [
    "pred_error_train = pd.DataFrame({ \n",
    " 'residual': train_Y - ridge_model.predict(train_X), \n",
    " 'data set': 'training' \n",
    "}) \n",
    "pred_error_test = pd.DataFrame({ \n",
    " 'residual': valid_Y - ridge_model.predict(valid_X), \n",
    " 'data set': 'test' \n",
    "}) \n",
    "\n",
    "#boxdata_df = pred_error_train.append(pred_error_test, ignore_index=True) \n",
    "fig, axes = plt.subplots(nrows=1, ncols=2) \n",
    "fig.set_size_inches(9, 4) \n",
    "common = {'bins': 100, 'range': [-pred_error_test['residual'].max(), pred_error_test['residual'].max()]} \n",
    "pred_error_train.hist(ax=axes[0], **common) \n",
    "pred_error_test.hist(ax=axes[1], **common) \n",
    "#boxdata_df.boxplot(ax=axes[2], by = 'data set') \n",
    "axes[0].set_title('training') \n",
    "axes[1].set_title('test') \n",
    "#axes[2].set_title(' ') \n",
    "#axes[2].set_ylim(-50, 50) \n",
    "plt.suptitle('Prediction errors') \n",
    "plt.subplots_adjust(bottom=0.1, top=0.85, wspace=0.35) \n",
    "#plt.show() "
   ]
  },
  {
   "cell_type": "code",
   "execution_count": 78,
   "metadata": {},
   "outputs": [
    {
     "data": {
      "text/plain": [
       "residual    1.083409\n",
       "dtype: float64"
      ]
     },
     "execution_count": 78,
     "metadata": {},
     "output_type": "execute_result"
    }
   ],
   "source": [
    "pred_error_train.skew()"
   ]
  },
  {
   "cell_type": "code",
   "execution_count": 79,
   "metadata": {},
   "outputs": [
    {
     "data": {
      "text/plain": [
       "residual    0.476796\n",
       "dtype: float64"
      ]
     },
     "execution_count": 79,
     "metadata": {},
     "output_type": "execute_result"
    }
   ],
   "source": [
    "pred_error_test.skew()"
   ]
  },
  {
   "cell_type": "code",
   "execution_count": 82,
   "metadata": {},
   "outputs": [
    {
     "data": {
      "text/plain": [
       "-0.11847734493921269"
      ]
     },
     "execution_count": 82,
     "metadata": {},
     "output_type": "execute_result"
    }
   ],
   "source": [
    "r2_score(valid_Y, ridge_model.predict(valid_X))"
   ]
  },
  {
   "cell_type": "code",
   "execution_count": 80,
   "metadata": {},
   "outputs": [
    {
     "data": {
      "text/html": [
       "<div>\n",
       "<style scoped>\n",
       "    .dataframe tbody tr th:only-of-type {\n",
       "        vertical-align: middle;\n",
       "    }\n",
       "\n",
       "    .dataframe tbody tr th {\n",
       "        vertical-align: top;\n",
       "    }\n",
       "\n",
       "    .dataframe thead th {\n",
       "        text-align: right;\n",
       "    }\n",
       "</style>\n",
       "<table border=\"1\" class=\"dataframe\">\n",
       "  <thead>\n",
       "    <tr style=\"text-align: right;\">\n",
       "      <th></th>\n",
       "      <th>Feature</th>\n",
       "      <th>coefficients</th>\n",
       "    </tr>\n",
       "  </thead>\n",
       "  <tbody>\n",
       "    <tr>\n",
       "      <th>25</th>\n",
       "      <td>LIGHT_Dusk</td>\n",
       "      <td>0.452667</td>\n",
       "    </tr>\n",
       "    <tr>\n",
       "      <th>20</th>\n",
       "      <td>VISIBILITY_Rain</td>\n",
       "      <td>0.403059</td>\n",
       "    </tr>\n",
       "    <tr>\n",
       "      <th>23</th>\n",
       "      <td>LIGHT_Dawn</td>\n",
       "      <td>0.352853</td>\n",
       "    </tr>\n",
       "    <tr>\n",
       "      <th>3</th>\n",
       "      <td>AvgAcceleration</td>\n",
       "      <td>0.284758</td>\n",
       "    </tr>\n",
       "    <tr>\n",
       "      <th>15</th>\n",
       "      <td>RDSFCOND_Wet</td>\n",
       "      <td>0.252977</td>\n",
       "    </tr>\n",
       "    <tr>\n",
       "      <th>2</th>\n",
       "      <td>PercentOfVehicles</td>\n",
       "      <td>0.221138</td>\n",
       "    </tr>\n",
       "    <tr>\n",
       "      <th>10</th>\n",
       "      <td>RDSFCOND_Dry</td>\n",
       "      <td>0.215740</td>\n",
       "    </tr>\n",
       "    <tr>\n",
       "      <th>13</th>\n",
       "      <td>RDSFCOND_Packed Snow</td>\n",
       "      <td>0.141185</td>\n",
       "    </tr>\n",
       "    <tr>\n",
       "      <th>4</th>\n",
       "      <td>Cluster</td>\n",
       "      <td>0.119003</td>\n",
       "    </tr>\n",
       "    <tr>\n",
       "      <th>1</th>\n",
       "      <td>SeverityScore</td>\n",
       "      <td>0.101441</td>\n",
       "    </tr>\n",
       "    <tr>\n",
       "      <th>0</th>\n",
       "      <td>IncidentsTotal</td>\n",
       "      <td>0.002960</td>\n",
       "    </tr>\n",
       "    <tr>\n",
       "      <th>19</th>\n",
       "      <td>VISIBILITY_Other</td>\n",
       "      <td>0.000889</td>\n",
       "    </tr>\n",
       "    <tr>\n",
       "      <th>26</th>\n",
       "      <td>VEHTYPE_Medium-size Vehicle</td>\n",
       "      <td>0.000565</td>\n",
       "    </tr>\n",
       "    <tr>\n",
       "      <th>17</th>\n",
       "      <td>VISIBILITY_Fog, Mist, Smoke, Dust</td>\n",
       "      <td>0.000000</td>\n",
       "    </tr>\n",
       "    <tr>\n",
       "      <th>6</th>\n",
       "      <td>INVAGE_Children</td>\n",
       "      <td>0.000000</td>\n",
       "    </tr>\n",
       "    <tr>\n",
       "      <th>5</th>\n",
       "      <td>TIME</td>\n",
       "      <td>-0.000145</td>\n",
       "    </tr>\n",
       "    <tr>\n",
       "      <th>8</th>\n",
       "      <td>INVAGE_Super Senior</td>\n",
       "      <td>-0.011855</td>\n",
       "    </tr>\n",
       "    <tr>\n",
       "      <th>21</th>\n",
       "      <td>VISIBILITY_Snow</td>\n",
       "      <td>-0.083461</td>\n",
       "    </tr>\n",
       "    <tr>\n",
       "      <th>9</th>\n",
       "      <td>INVAGE_Young Adult</td>\n",
       "      <td>-0.094720</td>\n",
       "    </tr>\n",
       "    <tr>\n",
       "      <th>7</th>\n",
       "      <td>INVAGE_Senior</td>\n",
       "      <td>-0.102260</td>\n",
       "    </tr>\n",
       "    <tr>\n",
       "      <th>11</th>\n",
       "      <td>RDSFCOND_Loose Snow</td>\n",
       "      <td>-0.113370</td>\n",
       "    </tr>\n",
       "    <tr>\n",
       "      <th>18</th>\n",
       "      <td>VISIBILITY_Freezing Rain</td>\n",
       "      <td>-0.116497</td>\n",
       "    </tr>\n",
       "    <tr>\n",
       "      <th>24</th>\n",
       "      <td>LIGHT_Daylight</td>\n",
       "      <td>-0.157606</td>\n",
       "    </tr>\n",
       "    <tr>\n",
       "      <th>27</th>\n",
       "      <td>VEHTYPE_Other</td>\n",
       "      <td>-0.234172</td>\n",
       "    </tr>\n",
       "    <tr>\n",
       "      <th>12</th>\n",
       "      <td>RDSFCOND_Other</td>\n",
       "      <td>-0.263877</td>\n",
       "    </tr>\n",
       "    <tr>\n",
       "      <th>22</th>\n",
       "      <td>LIGHT_Dark</td>\n",
       "      <td>-0.269063</td>\n",
       "    </tr>\n",
       "    <tr>\n",
       "      <th>16</th>\n",
       "      <td>VISIBILITY_Clear</td>\n",
       "      <td>-0.309023</td>\n",
       "    </tr>\n",
       "    <tr>\n",
       "      <th>14</th>\n",
       "      <td>RDSFCOND_Slush</td>\n",
       "      <td>-0.337687</td>\n",
       "    </tr>\n",
       "    <tr>\n",
       "      <th>28</th>\n",
       "      <td>VEHTYPE_Small-size Vehicle</td>\n",
       "      <td>-0.387516</td>\n",
       "    </tr>\n",
       "    <tr>\n",
       "      <th>29</th>\n",
       "      <td>VEHTYPE_Two Wheeler</td>\n",
       "      <td>-0.836748</td>\n",
       "    </tr>\n",
       "  </tbody>\n",
       "</table>\n",
       "</div>"
      ],
      "text/plain": [
       "                              Feature  coefficients\n",
       "25                         LIGHT_Dusk      0.452667\n",
       "20                    VISIBILITY_Rain      0.403059\n",
       "23                         LIGHT_Dawn      0.352853\n",
       "3                     AvgAcceleration      0.284758\n",
       "15                       RDSFCOND_Wet      0.252977\n",
       "2                   PercentOfVehicles      0.221138\n",
       "10                       RDSFCOND_Dry      0.215740\n",
       "13               RDSFCOND_Packed Snow      0.141185\n",
       "4                             Cluster      0.119003\n",
       "1                       SeverityScore      0.101441\n",
       "0                      IncidentsTotal      0.002960\n",
       "19                   VISIBILITY_Other      0.000889\n",
       "26        VEHTYPE_Medium-size Vehicle      0.000565\n",
       "17  VISIBILITY_Fog, Mist, Smoke, Dust      0.000000\n",
       "6                     INVAGE_Children      0.000000\n",
       "5                                TIME     -0.000145\n",
       "8                 INVAGE_Super Senior     -0.011855\n",
       "21                    VISIBILITY_Snow     -0.083461\n",
       "9                  INVAGE_Young Adult     -0.094720\n",
       "7                       INVAGE_Senior     -0.102260\n",
       "11                RDSFCOND_Loose Snow     -0.113370\n",
       "18           VISIBILITY_Freezing Rain     -0.116497\n",
       "24                     LIGHT_Daylight     -0.157606\n",
       "27                      VEHTYPE_Other     -0.234172\n",
       "12                     RDSFCOND_Other     -0.263877\n",
       "22                         LIGHT_Dark     -0.269063\n",
       "16                   VISIBILITY_Clear     -0.309023\n",
       "14                     RDSFCOND_Slush     -0.337687\n",
       "28         VEHTYPE_Small-size Vehicle     -0.387516\n",
       "29                VEHTYPE_Two Wheeler     -0.836748"
      ]
     },
     "execution_count": 80,
     "metadata": {},
     "output_type": "execute_result"
    }
   ],
   "source": [
    "pd.DataFrame({'Feature': X.columns, 'coefficients': ridge_model.coef_}).sort_values(by = 'coefficients', ascending = False)"
   ]
  },
  {
   "cell_type": "code",
   "execution_count": 81,
   "metadata": {},
   "outputs": [
    {
     "data": {
      "image/png": "[encoded data removed]",
      "text/plain": [
       "<Figure size 576x684 with 2 Axes>"
      ]
     },
     "metadata": {
      "needs_background": "light"
     },
     "output_type": "display_data"
    }
   ],
   "source": [
    "masker = shap.maskers.Independent(data= valid_X)\n",
    "explainer = shap.Explainer(ridge_model, masker= masker,\n",
    "                           feature_names= valid_X.columns, algorithm=\"auto\")\n",
    "shap_values = explainer.shap_values(valid_X)\n",
    "shap.summary_plot(shap_values, valid_X)"
   ]
  }
 ],
 "metadata": {
  "interpreter": {
   "hash": "a00b87f3dafb8c5b0afdf77add0e2432ad578e1240a81446720c0c7d6c46e214"
  },
  "kernelspec": {
   "display_name": "Python 3.9.10 64-bit (windows store)",
   "language": "python",
   "name": "python3"
  },
  "language_info": {
   "codemirror_mode": {
    "name": "ipython",
    "version": 3
   },
   "file_extension": ".py",
   "mimetype": "text/x-python",
   "name": "python",
   "nbconvert_exporter": "python",
   "pygments_lexer": "ipython3",
   "version": "3.9.10"
  },
  "orig_nbformat": 4
 },
 "nbformat": 4,
 "nbformat_minor": 2
}
